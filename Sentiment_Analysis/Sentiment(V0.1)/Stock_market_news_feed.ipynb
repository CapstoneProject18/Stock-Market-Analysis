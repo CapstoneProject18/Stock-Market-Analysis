{
 "cells": [
  {
   "cell_type": "code",
   "execution_count": 14,
   "metadata": {},
   "outputs": [
    {
     "name": "stdout",
     "output_type": "stream",
     "text": [
      "['http://www.moneycontrol.com/company-article/cadilahealthcare/news/CHC#CHC', 'http://www.moneycontrol.com/company-article/piramalenterprises/news/PH05#PH05', 'http://www.moneycontrol.com/company-article/glenmarkpharma/news/GP08#GP08', 'http://www.moneycontrol.com/company-article/glaxosmithklinepharmaceuticals/news/GSK#GSK', 'http://www.moneycontrol.com/company-article/sunpharmaceuticalindustries/news/SPI#SPI', 'http://www.moneycontrol.com/company-article/lupinlaboratories/news/LL#LL', 'http://www.moneycontrol.com/company-article/cipla/news/C#C', 'http://www.moneycontrol.com/company-article/aurobindopharma/news/AP#AP', 'http://www.moneycontrol.com/company-article/drreddyslaboratories/news/DRL#DRL', 'http://www.moneycontrol.com/company-article/divislaboratories/news/DL03#DL03']\n"
     ]
    }
   ],
   "source": [
    "import csv\n",
    "import time\n",
    "import requests\n",
    "from bs4 import BeautifulSoup\n",
    "from pattern.en import ngrams\n",
    "\n",
    "Base_url = \"http://www.moneycontrol.com\"\n",
    "\n",
    "\n",
    "companies = {'cadilahealthcare':'CHC','piramalenterprises':'PH05',\n",
    "             'glenmarkpharma':'GP08','glaxosmithklinepharmaceuticals':'GSK',\n",
    "             'sunpharmaceuticalindustries':'SPI','lupinlaboratories':'LL',\n",
    "             'cipla':'C','aurobindopharma':'AP',\n",
    "             'drreddyslaboratories':'DRL','divislaboratories':'DL03'}\n",
    "             \n",
    "# Create a list of the news section urls of the respective companies \n",
    "url_list = ['http://www.moneycontrol.com/company-article/{}/news/{}#{}'.format(k,v,v) for k,v in companies.items()]\n",
    "print(url_list)"
   ]
  },
  {
   "cell_type": "code",
   "execution_count": 16,
   "metadata": {},
   "outputs": [],
   "source": [
    "# Create an empty list which will contain the selected news articles \n",
    "List_of_links = []   \n",
    "\n",
    "# Extract the relevant news articles weblinks from the news section of selected companies\n",
    "for urls in url_list:\n",
    "    html = requests.get(urls)\n",
    "    soup = BeautifulSoup(html.text,'html.parser') # Create a BeautifulSoup object \n",
    "\n",
    "   # Retrieve a list of all the links and the titles for the respective links\n",
    "    word1,word2,word3 = \"US\",\"USA\",\"USFDA\"\n",
    " \n",
    "    sub_links = soup.find_all('a', class_='arial11_summ')\n",
    "    for links in sub_links:\n",
    "        sp = BeautifulSoup(str(links),'html.parser')  # first convert into a string\n",
    "        tag = sp.a\n",
    "        if word1 in tag['title'] or word2 in tag['title'] or word3 in tag['title']:\n",
    "            category_links = Base_url + tag[\"href\"]\n",
    "            List_of_links.append(category_links)\n",
    "            time.sleep(3)"
   ]
  },
  {
   "cell_type": "code",
   "execution_count": 42,
   "metadata": {},
   "outputs": [
    {
     "name": "stdout",
     "output_type": "stream",
     "text": [
      "http://www.moneycontrol.com/news/business/zydus-cadila-gets-usfda-nod-to-market-skin-treatment-cream_11553501.html\n",
      "http://www.moneycontrol.com/news/business/dr-reddy39s-labs-announces-generic-versionstraterraus-market_11622181.html\n",
      "http://www.moneycontrol.com/news/buzzing-stocks/dr-reddy39s-laboratories-slips-2reportus-fda-handing-out-observations-to-duvvada-unit_11666081.html\n",
      "http://www.moneycontrol.com/news/business/dr-reddy39s-gets-8-observationsusfda-for-duvvada-plant_11617861.html\n",
      "http://www.moneycontrol.com/news/buzzing-stocks/cipla-gains-1final-approvalusfda-nomura-remains-neutraltarget-rs-588_11671941.html\n",
      "http://www.moneycontrol.com/news/business/glenmark-pharma-gets-tentative-usfda-nod-for-skin-treatment-drug_11766061.html\n",
      "http://www.moneycontrol.com/news/business/cipla-gets-usfda-nod-for-hypertension-cardiac-drug_11605661.html\n",
      "http://www.moneycontrol.com/news/business/glenmark-gets-usfda-nod-for-multiple-sclerosis-medication_11730401.html\n",
      "http://www.moneycontrol.com/news/business/cipla39s-subsidiary-to-acquire-us-based-avenue-therapeutics-for-36215-mn_11684921.html\n",
      "http://www.moneycontrol.com/news/result-poll/sun-pharma-q2-profit-likely-to-getboosthealthy-us-business-halol-resolution_11681061.html\n",
      "http://www.moneycontrol.com/news/business/zydus-cadila-gets-usfda-nod-for-generic-cholesterol-drug_11756101.html\n",
      "http://www.moneycontrol.com/news/buzzing-stocks/dr-reddy39s-labs-gains-3zero-observationsusfda-for-srikakulum-plant-unit-ii_11739041.html\n",
      "http://www.moneycontrol.com/news/business/these-3-indian-pharma-firms-to-benefitwarning-letter-to-mylan39s-us-facility_11773461.html\n",
      "http://www.moneycontrol.com/news/business/cipla-acquires-us-based-avenue-therapeutics-for-36215-million_11696761.html\n",
      "http://www.moneycontrol.com/news/business/glenmark-gets-usfda-nod-for-generic-skin-inflammation-oil_11596781.html\n",
      "http://www.moneycontrol.com/news/buzzing-stocks/glenmark-pharma-rises-1tentative-approvalusfda_11765521.html\n",
      "http://www.moneycontrol.com/news/business/glenmark-gets-usfda-nod-for-generic-derma-smoothe-topical-oil_11611321.html\n",
      "http://www.moneycontrol.com/news/business/glenmark-gets-usfda-nod-for-generic-acne-treatment-gel_11746061.html\n",
      "http://www.moneycontrol.com/news/buzzing-stocks/glenmark-pharma-gains-2usfda-approval-for-antimicrobial-drug_11754261.html\n",
      "http://www.moneycontrol.com/news/buzzing-stocks/cipla-gains-1usfda-approval-for-metoprolol-er-tablets_11604301.html\n",
      "http://www.moneycontrol.com/news/business/us-pricing-pressure-shows-signseasing-as-drug-makers-prune-loss-making-portfolios_11667681.html\n",
      "http://www.moneycontrol.com/news/business/sun-pharma-settles-modafinil-antitrust-litigationcertain-us-plaintiffs_11769021.html\n",
      "http://www.moneycontrol.com/news/business/glenmark-gets-usfda-nod-for-pneumonia-treatment-drug_11754521.html\n",
      "http://www.moneycontrol.com/news/business/us-appeals-court-allows-dr-reddy39s-labs-to-sell-generic-suboxone_11749081.html\n",
      "http://www.moneycontrol.com/news/business/cipla-gets-usfda-nod-for-anti-viral-eye-infection-drug-for-aids-patients_11672521.html\n",
      "http://www.moneycontrol.com/news/buzzing-stocks/glenmark-pharma-rises-1usfda-approval-for-teriflunomide-tablets_11729381.html\n",
      "http://www.moneycontrol.com/news/result-poll/q2-preview-muted-us-business-growth-likely-to-hit-aurobindo-pharma39s-performance_11671661.html\n",
      "http://www.moneycontrol.com/news/buzzing-stocks/cadila-healthcare-gains-nearly-2usfda-nod_11732441.html\n",
      "http://www.moneycontrol.com/news/business/sun-pharma-launches-psoriasis-treatment-drug-ilumyaus_11579661.html\n"
     ]
    }
   ],
   "source": [
    "# Remove the duplicate news articles based on News Title\n",
    "import json\n",
    "\n",
    "unique_links = list(set(List_of_links))\n",
    "for q in unique_links: \n",
    "    print(q)\n",
    "\n",
    "# Create a dictionary of positive/negative words related to the Pharma Sector\n",
    "#reader = csv.reader(open('dict.csv', 'r'))\n",
    "#pharma_dict = dict((rows[0],rows[1]) for rows in reader)\n",
    "\n",
    "# Creating an empty list which will be filled later with news article links, and Polarity values (pos/neg)\n",
    "#df =[]\n",
    "#print(df)"
   ]
  },
  {
   "cell_type": "code",
   "execution_count": 47,
   "metadata": {},
   "outputs": [
    {
     "name": "stdout",
     "output_type": "stream",
     "text": [
      "[('The',), ('company',), ('has',), ('received',), ('the',), ('final',), ('approval',), ('from',), ('the',), ('United',), ('States',), ('Food',), ('and',), ('Drug',), ('Administration',), ('USFDA',), ('to',), ('market',), ('Clobetasol',), ('Propionate',), ('cream',), ('in',), ('the',), ('strength',), ('of',), ('0.05',), ('per',), ('cent',), ('Zydus',), ('Cadila',), ('said',), ('in',), ('a',), ('statement',)]\n",
      "[('The',), ('Hyderabad-based',), ('company',), ('has',), ('received',), ('the',), ('approval',), ('from',), ('the',), ('US',), ('Food',), ('and',), ('Drug',), ('Administration',), ('USFDA',), ('to',), ('market',), ('its',), ('product',), ('which',), ('is',), ('a',), ('generic',), ('equivalent',), ('of',), ('Eli',), ('Lilly',), ('and',), ('Company',), (\"'s\",), ('Straterra',), ('Dr',), ('Reddy',), (\"'s\",), ('Laboratories',), ('said',), ('in',), ('a',), ('statement',)]\n",
      "[('The',), ('said',), ('observations',), ('include',), ('no',), ('written',), ('procedures',), ('for',), ('production',), ('and',), ('process',), ('controls',), ('The',), ('company',), (\"'s\",), ('quality',), ('unit',), ('failed',), ('to',), ('implement',), ('adequate',), ('and',), ('reliable',), ('controls',)]\n",
      "[('As',), ('per',), ('the',), ('USFDA',), ('a',), ('Form',), ('483',), ('is',), ('issued',), ('to',), ('a',), ('firm',), (\"'s\",), ('management',), ('at',), ('the',), ('conclusion',), ('of',), ('an',), ('inspection',), ('when',), ('investigator',), ('has',), ('observed',), ('any',), ('conditions',), ('that',), ('in',), ('its',), ('judgment',), ('may',), ('constitute',), ('violations',), ('of',), ('the',), ('Food',), ('Drug',), ('and',), ('Cosmetic',), ('FD&amp;amp;C',), ('Act',), ('and',), ('related',), ('Acts.',)]\n",
      "[('Nomura',), ('has',), ('maintained',), ('neutral',), ('call',), ('on',), ('Cipla',), ('and',), ('cut',), ('target',), ('to',), ('Rs',), ('588',), ('from',), ('Rs',), ('714',), ('per',), ('share',)]\n",
      "[('The',), ('company',), ('has',), ('received',), ('final',), ('nod',), ('from',), ('the',), ('United',), ('States',), ('Food',), ('and',), ('Drug',), ('Administration',), ('USFDA',), ('for',), ('its',), ('abbreviated',), ('new',), ('drug',), ('application',), ('ANDA',), ('for',), ('Metoprolol',), ('ER',), ('tablets',), ('in',), ('the',), ('strengths',), ('of',), ('50mg',), ('100mg',), ('and',), ('200mg',), ('Cipla',), ('said',), ('in',), ('a',), ('BSE',), ('filing',)]\n",
      "[('Glenmark',), ('Pharmaceuticals',), ('USA',), ('has',), ('been',), ('granted',), ('final',), ('approval',), ('by',), ('the',), ('United',), ('States',), ('Food',), ('and',), ('Drug',), ('Administration',), ('USFDA',), ('for',), ('Teriflunomide',), ('tablets',), ('in',), ('the',), ('strengths',), ('of',), ('7',), ('mg',), ('and',), ('14',), ('mg',), ('the',), ('company',), ('said',), ('in',), ('a',), ('BSE',), ('filing',)]\n",
      "[('amp;quot;At',), ('the',), ('first',), ('stage',), ('closing',), ('InvaGen',), ('or',), ('its',), ('affiliates',), ('will',), ('acquire',), ('through',), ('the',), ('issuance',), ('by',), ('Avenue',), ('of',), ('new',), ('shares',), ('shares',), ('representing',), ('a',), ('33.3',), ('per',), ('cent',), ('stake',), ('in',), ('Avenue',), (\"'s\",), ('capital',), ('stock',), ('on',), ('a',), ('fully',), ('diluted',), ('basis',), ('for',), ('USD',), ('35',), ('million,&amp;quot',), ('Cipla',), ('said',), ('in',), ('a',), ('regulatory',), ('filling',)]\n",
      "[('Brokerages',), ('expect',), ('profit',), ('to',), ('be',), ('around',), ('Rs',), ('950-1,087',), ('crore',)]\n",
      "[('The',), ('Ahmedabad-based',), ('group',), ('has',), ('received',), ('final',), ('approval',), ('from',), ('the',), ('US',), ('Food',), ('and',), ('Drug',), ('Administration',), ('USFDA',), ('to',), ('market',), ('the',), ('drug',), ('in',), ('the',), ('strengths',), ('of',), ('10',), ('mg',), ('20',), ('mg',), ('40',), ('mg',), ('and',), ('80',), ('mg',), ('Zydus',), ('Cadila',), ('said',), ('in',), ('a',), ('statement',)]\n",
      "[('The',), ('pharma',), ('major',), ('informed',), ('exchanges',), ('that',), ('the',), ('audit',), ('of',), ('its',), ('Formulations',), ('Srikakulum',), ('Plant',), ('SEZ',), ('Unit',), ('II',), ('Andhra',), ('Pradesh',), ('by',), ('the',), ('US',), ('Food',), ('Drug',), ('Administration',), ('has',), ('been',), ('completed',), ('on',), ('Friday',)]\n",
      "[('The',), ('slowdown',), ('in',), ('production',), ('at',), ('Morgantown',), ('site',), ('could',), ('provide',), ('a',), ('window',), ('of',), ('opportunity',), ('to',), ('Mylan',), (\"'s\",), ('peers',)]\n",
      "[('The',), ('acquisition',), ('will',), ('give',), ('Cipla',), ('access',), ('to',), ('specialty',), ('drug',), ('Tramadol',), ('delivered',), ('intravenously',), ('IV',), ('to',), ('manage',), ('post-operative',), ('pain',)]\n",
      "[('Glenmark',), ('Pharmaceuticals',), ('Inc',), ('has',), ('been',), ('granted',), ('final',), ('approval',), ('by',), ('the',), ('United',), ('States',), ('Food',), ('amp;amp',), ('Drug',), ('Administration',), ('USFDA',), ('for',), ('the',), ('oil',), ('in',), ('the',), ('strength',), ('of',), ('0.01',), ('percent',), ('the',), ('Mumbai-based',), ('company',), ('said',), ('in',), ('a',), ('statement',)]\n",
      "[('Glenmark',), ('Pharmaceuticals',), ('Inc.',), ('USA',), ('has',), ('been',), ('granted',), ('tentative',), ('approval',), ('by',), ('the',), ('for',), ('Clobetasol',), ('Propionate',), ('Foam',), ('a',), ('generic',), ('version',), ('of',), ('Olux-E',), ('Foam',), ('of',), ('Mylan',), ('Pharmaceuticals',), ('Inc.',)]\n",
      "[('The',), ('company',), (\"'s\",), ('current',), ('portfolio',), ('consists',), ('of',), ('141',), ('products',), ('authorised',), ('for',), ('distribution',), ('at',), ('the',), ('US',), ('marketplace',), ('and',), ('58',), ('Abbreviated',), ('New',), ('Drug',), ('Applications',), ('ANDAs',), ('pending',), ('approval',), ('with',), ('the',), ('USFDA',)]\n",
      "[('Atovaquone',), ('is',), ('a',), ('generic',), ('version',), ('of',), ('Mepron',), ('oral',), ('suspension',), ('750',), ('mg/5',), ('mL',), ('of',), ('GlaxoSmithKline',), ('LLC',)]\n",
      "[('The',), ('Metoprolol',), ('ER',), ('Tablets',), ('is',), ('AB-rated',), ('generic',), ('therapeutic',), ('equivalent',), ('version',), ('of',), ('Aralez',), ('Pharmaceuticals',), ('Inc.&rsquo;s',), ('Toprol',), ('XL',)]\n",
      "[('To',), ('beat',), ('the',), ('pricing',), ('pressure',), ('and',), ('maintain',), ('profit',), ('margins',), ('large',), ('generic',), ('drug',), ('makers',), ('have',), ('responded',), ('by',), ('slashing',), ('their',), ('generic',), ('pipelines',), ('and',), ('ANDA',), ('filings',)]\n",
      "[('A',), ('group',), ('of',), ('direct',), ('purchasers',), ('sued',), ('Cephalon',), ('Mylan',), ('Teva',), ('and',), ('Ranbaxy',), ('Laboratories',), ('in',), ('2006',), ('for',), ('so-called',), ('ldquo;pay-for-delay&rdquo',), ('settlements',), ('in',), ('which',), ('brand-name',), ('drug',), ('makers',), ('pay',), ('their',), ('generic',), ('counterparts',), ('to',), ('keep',), ('drugs',), ('off',), ('the',), ('market',)]\n",
      "[('Dr',), ('Reddy',), (\"'s\",), ('had',), ('booked',), ('sales',), ('of',), ('around',), ('10-15',), ('million',), ('days',), ('after',), ('its',), ('launch',), ('before',), ('it',), ('was',), ('stayed',), ('by',), ('the',), ('court',)]\n",
      "[('Glenmark',), ('Pharmaceuticals',), ('Inc.',), ('USA',), ('has',), ('been',), ('granted',), ('final',), ('approval',), ('by',), ('the',), ('United',), ('States',), ('Food',), ('amp;amp',), ('Drug',), ('Administration',), ('USFDA',), ('for',), ('Teriflunomide',), ('tablets',)]\n",
      "[('Further',), ('high',), ('R&amp;amp;D',), ('cost',), ('is',), ('likely',), ('to',), ('affect',), ('financials',), ('as',), ('well',), ('one',), ('brokerage',), ('house',), ('wrote',), ('in',), ('its',), ('report',)]\n",
      "[('Abacavir',), ('and',), ('Lamivudine',), ('tablets',), ('are',), ('used',), ('with',), ('other',), ('antiretroviral',), ('medicines',), ('to',), ('treat',), ('Human',), ('Immunodeficiency',), ('Virus-type',), ('1',), ('HIV-1',), ('infection',)]\n"
     ]
    }
   ],
   "source": [
    "# Open the choosen news articles and extract the main text  \n",
    "for selected_links in unique_links:\n",
    "    results_url = selected_links \n",
    "   #print results_url\n",
    "   \n",
    "    results = requests.get(results_url)\n",
    "    results_text = BeautifulSoup(results.text , \"lxml\")\n",
    "    #print(results.text)\n",
    "    #break\n",
    "    extract_text = results_text.find(class_='arti-flow')\n",
    "    try:\n",
    "        data = json.loads(results_text.find('script', type='application/ld+json').text)\n",
    "    except:\n",
    "        continue\n",
    "    #print(data['description'])\n",
    "    #print(extract_text)\n",
    "    #print(data)\n",
    "    #final_text = extract_text.get_text()\n",
    "    final_text = data['description']\n",
    "    #print(final_text)\n",
    "    \n",
    "    # Pre-processing the extracted text using ngrams function from the pattern package   \n",
    "    final_text1 = ngrams(final_text, n=1, punctuation=\".,;:!?()[]{}`''\\\"@#$^&*+-|=~_\", continuous=False)\n",
    "    print (final_text1)\n",
    "    "
   ]
  },
  {
   "cell_type": "code",
   "execution_count": null,
   "metadata": {},
   "outputs": [],
   "source": []
  },
  {
   "cell_type": "code",
   "execution_count": null,
   "metadata": {},
   "outputs": [],
   "source": []
  }
 ],
 "metadata": {
  "kernelspec": {
   "display_name": "Python 3",
   "language": "python",
   "name": "python3"
  },
  "language_info": {
   "codemirror_mode": {
    "name": "ipython",
    "version": 3
   },
   "file_extension": ".py",
   "mimetype": "text/x-python",
   "name": "python",
   "nbconvert_exporter": "python",
   "pygments_lexer": "ipython3",
   "version": "3.6.5"
  }
 },
 "nbformat": 4,
 "nbformat_minor": 2
}
